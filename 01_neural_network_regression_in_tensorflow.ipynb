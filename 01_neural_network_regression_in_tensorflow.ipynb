{
 "cells": [
  {
   "cell_type": "markdown",
   "id": "924239c9",
   "metadata": {},
   "source": [
    "# 01: Neural Network Regression with TensorFlow\n",
    "\n",
    "As we all know that, there are many pre-defined definitions for a [`regression_problem`](https://en.wikipedia.org/wiki/Regression_analysis) but in our case, to simplify it to be: predicting a number:\n",
    "\n",
    "For example, you might want to:\n",
    "* Estimate or predict the cost of medical insurance based on a person's demographics (age, gender, sex, race).\n",
    "* Estimate or predict the price of a property based on the information you have about it (such as number of rooms, number of bathrooms)\n",
    "* Estimate or predict the co-ordinate of a bounding box of an item in an image.\n",
    "\n",
    "In this notebook, we are going to set the foundations for how can you build a neural network to detect patterns in a sample of inputs (this is your data), and then making a estimation/prediction (in a form of a number) based on those inputs.\n",
    "\n",
    "## What we are going to cover?\n",
    "\n",
    "Specially, we will go through how to use `TensorFlow` to perform the following:\n",
    "\n",
    "* Architecture of the regression model\n",
    "* Input shapes and output shapes\n",
    "    * `X`: Feature / Data (inputs)\n",
    "    * 'y': Label / Target (outputs)\n",
    "* Creating custom data to view and fit\n",
    "* Steps in modelling \n",
    "    * Creating a model\n",
    "    * Compiling a model\n",
    "        * Defining a loss function\n",
    "        * Setting up an optimizer \n",
    "        * Creating an evaluation metrics\n",
    "    * Fitting a model (getting it to find patterns in your data)\n",
    "* Evaluating a model\n",
    "    * Visualizing the model (`\"(3V) visualize, visualize, and visualize\"`)\n",
    "    * Looking at training curves\n",
    "    * Compare estimations/predictions to ground truth (using our evaluation metrices)\n",
    "* Saving a model (So we can use it for later)\n",
    "* Loading a saved model\n",
    "\n",
    "> 🔑 **Note:** Don't worry if none of these make sense right now, we'll go through each of them one by one.\n",
    "\n",
    "## How you can use this notebook?\n",
    "\n",
    "You can go through the explanations and code (everything should work), but there's a better way to run code.\n",
    "\n",
    "Write all of the code yourself.\n",
    "\n",
    "Yes. I'm serious. Create a new notebook, and rewrite each line by yourself. Investigate it, see if you can break it, why does it break?\n",
    "\n",
    "You don't have to write the text descriptions but writing the code yourself is a great way to get hands-on experience.\n",
    "\n",
    "Don't worry if you make mistakes, we all do. The way to get better and make less mistakes is to **write more code**."
   ]
  },
  {
   "cell_type": "markdown",
   "id": "4eb0f3e4",
   "metadata": {},
   "source": [
    "## Typical architecture of a regression neural network\n",
    "\n",
    "The word `typical` is on purpose. \n",
    "\n",
    "Why?\n",
    "\n",
    "Because there are so many distict methods to build a neural networks (almost an unlimited number of ways).\n",
    "\n",
    "However, the following is a typical framework for taking a set of numbers, detecting patterns in them, and then getting a target number.\n",
    "\n",
    "Yes, we know the previous sentence is vague but we'll see this in action shortly.\n",
    "\n",
    "| **Hyperparameter** | **Typical value** |\n",
    "| --- | --- |\n",
    "| Input layer shape | Same shape as number of features (e.g. 3 for # bedrooms, # bathrooms, # car spaces in housing price prediction) |\n",
    "| Hidden layer(s) | Problem specific, minimum = 1, maximum = unlimited |\n",
    "| Neurons per hidden layer | Problem specific, generally 10 to 100 |\n",
    "| Output layer shape | Same shape as desired prediction shape (e.g. 1 for house price) |\n",
    "| Hidden activation | Usually [ReLU](https://www.kaggle.com/dansbecker/rectified-linear-units-relu-in-deep-learning) (rectified linear unit) |\n",
    "| Output activation | None, ReLU, logistic/tanh |\n",
    "| Loss function | [MSE](https://en.wikipedia.org/wiki/Mean_squared_error) (mean square error) or [MAE](https://en.wikipedia.org/wiki/Mean_absolute_error) (mean absolute error)/Huber (combination of MAE/MSE) if outliers |\n",
    "| Optimizer | [SGD](https://www.tensorflow.org/api_docs/python/tf/keras/optimizers/SGD) (stochastic gradient descent), [Adam](https://www.tensorflow.org/api_docs/python/tf/keras/optimizers/Adam) |\n",
    "\n",
    "***Table 1:*** *Typical architecture of a regression network.* ***Source:*** *Adapted from page 293 of [Hands-On Machine Learning with Scikit-Learn, Keras & TensorFlow Book by Aurélien Géron](https://www.oreilly.com/library/view/hands-on-machine-learning/9781492032632/)*\n",
    "\n",
    "Again, if you're new to neural networks and deep learning in general, much of the above table won't make sense. But don't worry, we'll be getting hands-on with all of it soon.\n",
    "\n",
    "> 🔑 **Note:** A **hyperparameter** in machine learning is something a data analyst or developer can set themselves, where as a **parameter** usually describes something a model learns on its own (a value not explicitly set by an analyst).\n",
    "\n",
    "Okay, enough talk, let's get started writing code.\n",
    "\n",
    "To use TensorFlow, we will import as the common alias `tf`"
   ]
  },
  {
   "cell_type": "code",
   "execution_count": 1,
   "id": "93b4f93e",
   "metadata": {},
   "outputs": [
    {
     "name": "stderr",
     "output_type": "stream",
     "text": [
      "2022-01-09 16:57:13.863277: W tensorflow/stream_executor/platform/default/dso_loader.cc:64] Could not load dynamic library 'libcudart.so.11.0'; dlerror: libcudart.so.11.0: cannot open shared object file: No such file or directory\n",
      "2022-01-09 16:57:13.863317: I tensorflow/stream_executor/cuda/cudart_stub.cc:29] Ignore above cudart dlerror if you do not have a GPU set up on your machine.\n"
     ]
    },
    {
     "name": "stdout",
     "output_type": "stream",
     "text": [
      "2.7.0\n"
     ]
    }
   ],
   "source": [
    "import tensorflow as tf\n",
    "print(tf.__version__)"
   ]
  },
  {
   "cell_type": "markdown",
   "id": "1a462e19",
   "metadata": {},
   "source": [
    "## Creating data to view and fit \n",
    "\n",
    "As we have discussed already about this notebook, so let's create some linear data (a straight line) to model for predicting a number. "
   ]
  },
  {
   "cell_type": "code",
   "execution_count": 2,
   "id": "0702b71d",
   "metadata": {},
   "outputs": [
    {
     "data": {
      "text/plain": [
       "<matplotlib.collections.PathCollection at 0x7f4e212efee0>"
      ]
     },
     "execution_count": 2,
     "metadata": {},
     "output_type": "execute_result"
    },
    {
     "data": {
      "image/png": "[encoded data removed]",
      "text/plain": [
       "<Figure size 432x288 with 1 Axes>"
      ]
     },
     "metadata": {
      "needs_background": "light"
     },
     "output_type": "display_data"
    }
   ],
   "source": [
    "import numpy as np\n",
    "import matplotlib.pyplot as plt\n",
    "\n",
    "# Create features / input data\n",
    "X = np.array([14.0, 11.0, 8.0, 5.0, 2.0, -1.0, -4.0, -7.0])\n",
    "\n",
    "# Create label/target\n",
    "y = np.array([24.0, 21.0, 18.0, 15.0, 12.0, 9.0, 6.0, 3.0])\n",
    "\n",
    "# visualize \n",
    "plt.scatter(X, y)"
   ]
  },
  {
   "cell_type": "markdown",
   "id": "8566b04b",
   "metadata": {},
   "source": [
    "A question may arise in your mind, can you compute the pattern between `X` and `y` before we start modeling?\n",
    "\n",
    "For example, if someone asked you, what would be the value of `y` if the value of `X` was found 19.0 or -15.0?\n",
    "\n",
    "This is the essence of what we'll be building neural network to perform for us.\n",
    "\n",
    "\n",
    "## Regression Input and Output Shapes\n",
    "\n",
    "One of the most important concepts when building a neural network are the input and output shapes.\n",
    "\n",
    "* The <b> input shape </b> is the shape of your data that goes into the model\n",
    "* The <b> output shape </b> is the shape of your data you want to come out of your model.\n",
    "\n",
    "The input and output shape will be differ based on the problem statement or depend on the problem you are working on.\n",
    "\n",
    "Neural networks accept numbers and output numbers. These numbers are typically represented as tensors (or arrays).\n",
    "\n",
    "Similar to NumPy Array, we could do same with tensors."
   ]
  },
  {
   "cell_type": "code",
   "execution_count": 3,
   "id": "554537a8",
   "metadata": {},
   "outputs": [
    {
     "name": "stderr",
     "output_type": "stream",
     "text": [
      "2022-01-09 16:57:20.538265: E tensorflow/stream_executor/cuda/cuda_driver.cc:271] failed call to cuInit: CUDA_ERROR_NO_DEVICE: no CUDA-capable device is detected\n",
      "2022-01-09 16:57:20.538317: I tensorflow/stream_executor/cuda/cuda_diagnostics.cc:156] kernel driver does not appear to be running on this host (linus-Inspiron-3543): /proc/driver/nvidia/version does not exist\n",
      "2022-01-09 16:57:20.540282: I tensorflow/core/platform/cpu_feature_guard.cc:151] This TensorFlow binary is optimized with oneAPI Deep Neural Network Library (oneDNN) to use the following CPU instructions in performance-critical operations:  AVX2 FMA\n",
      "To enable them in other operations, rebuild TensorFlow with the appropriate compiler flags.\n"
     ]
    }
   ],
   "source": [
    "# input and output shapes of a regression model\n",
    "\n",
    "building_info = tf.constant(['garage', 'bedrooms', 'bathrooms'])\n",
    "building_price = tf.constant([939700])"
   ]
  },
  {
   "cell_type": "code",
   "execution_count": 4,
   "id": "85e07472",
   "metadata": {},
   "outputs": [
    {
     "name": "stdout",
     "output_type": "stream",
     "text": [
      "Information of building:  tf.Tensor([b'garage' b'bedrooms' b'bathrooms'], shape=(3,), dtype=string)\n",
      "Price of building:  tf.Tensor([939700], shape=(1,), dtype=int32)\n"
     ]
    }
   ],
   "source": [
    "print('Information of building: ', building_info)\n",
    "print('Price of building: ', building_price)"
   ]
  },
  {
   "cell_type": "code",
   "execution_count": 5,
   "id": "50d706bf",
   "metadata": {},
   "outputs": [
    {
     "name": "stdout",
     "output_type": "stream",
     "text": [
      "Shape of input data: (3,)\n",
      "Shape of output data: (1,)\n"
     ]
    }
   ],
   "source": [
    "print('Shape of input data:', building_info.shape)\n",
    "print('Shape of output data:', building_price.shape)"
   ]
  },
  {
   "cell_type": "code",
   "execution_count": 6,
   "id": "ac136751",
   "metadata": {},
   "outputs": [
    {
     "data": {
      "text/plain": [
       "<matplotlib.collections.PathCollection at 0x7f4e1c0bfdc0>"
      ]
     },
     "execution_count": 6,
     "metadata": {},
     "output_type": "execute_result"
    },
    {
     "data": {
      "image/png": "[encoded data removed]",
      "text/plain": [
       "<Figure size 432x288 with 1 Axes>"
      ]
     },
     "metadata": {
      "needs_background": "light"
     },
     "output_type": "display_data"
    }
   ],
   "source": [
    "# use tensors for first example\n",
    "\n",
    "# Create features / input data\n",
    "X = tf.constant([14.0, 11.0, 8.0, 5.0, 2.0, -1.0, -4.0, -7.0])\n",
    "\n",
    "# Create label/target\n",
    "y = tf.constant([24.0, 21.0, 18.0, 15.0, 12.0, 9.0, 6.0, 3.0])\n",
    "\n",
    "# visualize \n",
    "plt.scatter(X, y)"
   ]
  },
  {
   "cell_type": "markdown",
   "id": "ba22a269",
   "metadata": {},
   "source": [
    "Our goal here will be here to predict `y` using `X`.\n",
    "\n",
    "So, our input will be `X` and output will `y`.\n",
    "\n",
    "Now, question may arise in your mind, what do you think input and output shape will be?\n",
    "\n",
    "Let's take a look."
   ]
  },
  {
   "cell_type": "code",
   "execution_count": 7,
   "id": "efdfa5b0",
   "metadata": {},
   "outputs": [],
   "source": [
    "# Take a single example of X\n",
    "input_shape = X[0].shape\n",
    "\n",
    "# Take a single example of y\n",
    "output_shape = y[0].shape\n"
   ]
  },
  {
   "cell_type": "code",
   "execution_count": 8,
   "id": "1501d764",
   "metadata": {},
   "outputs": [
    {
     "data": {
      "text/plain": [
       "(TensorShape([]), TensorShape([]))"
      ]
     },
     "execution_count": 8,
     "metadata": {},
     "output_type": "execute_result"
    }
   ],
   "source": [
    "input_shape, output_shape"
   ]
  },
  {
   "cell_type": "markdown",
   "id": "1633d89d",
   "metadata": {},
   "source": [
    "Huh?\n",
    "\n",
    "From the above results, our inputs and outputs have no shape?\n",
    "\n",
    "How could that be?\n",
    "\n",
    "It is because no matter what kind of data we pass to our model, it is always going to take as input and return as output some kind of tensor.\n",
    "\n",
    "Still Confused?? 🤔 🤔 \n",
    "\n",
    "In our case, we are working with two small lists of numbers or in other words we can say that we are looking at a special kind of tensor, more specificially rank 0 tensor or a scalar."
   ]
  },
  {
   "cell_type": "code",
   "execution_count": 9,
   "id": "4eb49cb1",
   "metadata": {},
   "outputs": [
    {
     "data": {
      "text/plain": [
       "(<tf.Tensor: shape=(), dtype=float32, numpy=14.0>,\n",
       " <tf.Tensor: shape=(), dtype=float32, numpy=24.0>)"
      ]
     },
     "execution_count": 9,
     "metadata": {},
     "output_type": "execute_result"
    }
   ],
   "source": [
    "# Let's take a look at the single example individually\n",
    "\n",
    "X[0], y[0]"
   ]
  },
  {
   "cell_type": "markdown",
   "id": "e3268e2e",
   "metadata": {},
   "source": [
    "In our case, we are trying to build a model to predict the pattern between `X` and `y`\n",
    "\n",
    "Where `X[0] is equal to 14.0 and y[0] equal to 24.0`\n",
    "\n",
    "Now, you might be clear about what are trying to do, we are using 1 `X` value to predict 1 `y` value.\n",
    "\n",
    "You might be thinking, \"this sounds quite difficult for only predicting a straight line....\"\n",
    "\n",
    "And the answer is Big YES....\n",
    "\n",
    "But the concepts we're covering here, the concepts of input and output shapes to a model are fundamental. \n",
    "\n",
    "In fact, they're probably two of the things you'll spend the most time on when you work with neural networks: **making sure your input and outputs are in the correct shape**.\n",
    "\n",
    "If it doesn't make sense now, we'll see plenty more examples later on (soon you'll notice the input and output shapes can be almost anything you can imagine).\n",
    "\n",
    "![example of input and output shapes for a housing price prediction problem](https://raw.githubusercontent.com/mrdbourke/tensorflow-deep-learning/main/images/01-input-and-output-shapes-housing-prices.png)\n",
    "*If you were working on building a machine learning algorithm for predicting housing prices, your inputs may be number of bedrooms, number of bathrooms and number of garages, giving you an input shape of 3 (3 different features). And since you're trying to predict the price of the house, your output shape would be 1.*"
   ]
  },
  {
   "cell_type": "markdown",
   "id": "3443e1c8",
   "metadata": {},
   "source": [
    "## Steps in modelling with TensorFlow\n",
    "\n",
    "In the above session, we have learned about data and it's input shapes and output shapes. Now, let's see how to build a Neural Network model using input and output data. \n",
    "\n",
    "To create and train a model, there are typically 3 fundamental steps in TensorFlow:\n",
    "\n",
    "* **Step 01 -> Creating a model:** Using a [`Functional`](https://www.tensorflow.org/guide/keras/functional) or [`Sequential API`](https://www.tensorflow.org/api_docs/python/tf/keras/Sequential) piece together the layers of a neural network  yourself or import a previously built model (known as a `Transfer Learning`)\n",
    "<br> <br>\n",
    "* **Step 02 -> Compiling a model:** Determing and monitoring the performance of the model (`loss/metrics`) as well as how it should improve (`optimizer`)\n",
    "<br> <br>\n",
    "* **step 03 -> Fitting a model:** letting the model try to find patterns in the data (how does `X` get to `y`).\n",
    "<br> <br>\n",
    "\n",
    "Let's put all of the above steps into practice by creating a model for our regression data using the [`Keras Sequential API`](https://www.tensorflow.org/api_docs/python/tf/keras/Sequential). Then we'll go through each one step by step. \n",
    "\n",
    "> **Note:** If you're using [TensorFlow 2.7.0](https://github.com/tensorflow/tensorflow/releases/tag/v2.7.0)+, the `fit()` function no longer upscales input data to go from `(batch_size, )` to `(batch_size, 1)`. To fix this, you'll need to expand the dimension of input data using `tf.expand_dims(input_data, axis=-1)`.\n",
    ">\n",
    "> In our case, this means instead of using `model.fit(X, y, epochs=5)`, use `model.fit(tf.expand_dims(X, axis=-1), y, epochs=5)`"
   ]
  },
  {
   "cell_type": "code",
   "execution_count": null,
   "id": "5680f21b",
   "metadata": {},
   "outputs": [],
   "source": []
  }
 ],
 "metadata": {
  "kernelspec": {
   "display_name": "Python 3 (ipykernel)",
   "language": "python",
   "name": "python3"
  },
  "language_info": {
   "codemirror_mode": {
    "name": "ipython",
    "version": 3
   },
   "file_extension": ".py",
   "mimetype": "text/x-python",
   "name": "python",
   "nbconvert_exporter": "python",
   "pygments_lexer": "ipython3",
   "version": "3.8.10"
  }
 },
 "nbformat": 4,
 "nbformat_minor": 5
}
