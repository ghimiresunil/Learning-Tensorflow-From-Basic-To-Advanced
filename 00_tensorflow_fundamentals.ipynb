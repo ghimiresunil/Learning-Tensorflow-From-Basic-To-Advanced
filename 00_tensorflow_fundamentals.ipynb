{
 "cells": [
  {
   "cell_type": "markdown",
   "id": "46664329",
   "metadata": {},
   "source": [
    "# 00. Getting Started with TensorFlow: A guide to the fundamentals"
   ]
  },
  {
   "cell_type": "markdown",
   "id": "09a5ed8d",
   "metadata": {},
   "source": [
    "## What is tensorflow?"
   ]
  },
  {
   "cell_type": "markdown",
   "id": "e8066f27",
   "metadata": {},
   "source": [
    "[TensorFlow](https://www.tensorflow.org/) is an open-source end-to-end machine learning library for preprocessing data, modelling data and serving models (getting them into the hands of others)."
   ]
  },
  {
   "cell_type": "markdown",
   "id": "47c61589",
   "metadata": {},
   "source": [
    "## Why Use Tensorflow?"
   ]
  },
  {
   "cell_type": "markdown",
   "id": "e832121b",
   "metadata": {},
   "source": [
    "Rather than building Machine Learning and Deep Learning models from scratch, it's more likely you'll use a library such as Tensorflow. This is because it contains many of the most common Machine Learning functions you'll want to use."
   ]
  },
  {
   "cell_type": "markdown",
   "id": "fe338664",
   "metadata": {},
   "source": [
    "## What we're going to Cover?"
   ]
  },
  {
   "cell_type": "markdown",
   "id": "4290f323",
   "metadata": {},
   "source": [
    "Tensorflow is vast. But the main premise is simple: turns data into numbers (tensors) and build machine learning algorithms to find patterns in them. \n",
    "\n",
    "In this notebook we cover some of the most fundamentals Tensorflow operations more specificially:\n",
    "\n",
    "* Introduction to tensors (creating tensors)\n",
    "* Getting information from tensors (tensor attributes)\n",
    "* Manipulating tensors (tensor operations)\n",
    "* Tensors and NumPy\n",
    "* Using `@tf.function` (a way to speed up your regular Python functions)\n",
    "* Using GPUs with TensorFlow\n",
    "* Exercises to try\n",
    "\n",
    "Things to note:\n",
    "\n",
    "* Many of the conventions here will happen automatically behind the scenes (when you build a model) but it's worth knowing so if you see any of these things, you know what's happening. \n",
    "* For any TensorFlow function you see, it's important to be able to check it out in the documentation, for example, going to the Python API docs for all functions and searching for what you need: https://www.tensorflow.org/api_docs/python/ (don't worry if this seems overwhelming at first, with enough practice, you'll get used to navigating the documentaiton)."
   ]
  },
  {
   "cell_type": "markdown",
   "id": "95e26d54",
   "metadata": {},
   "source": [
    "## Introduction to Tensors "
   ]
  },
  {
   "cell_type": "markdown",
   "id": "d3b3ab21",
   "metadata": {},
   "source": [
    "If you've every used NumPy, [tensors](https://www.tensorflow.org/guide/tensor) are the kind of like NumPy arrays (we'll see more on this later). \n",
    "\n",
    "For the shake this notebook and going forward, you can think of a tensor as a multi-dimensional numerical representation (also referred to as n-dimensional, where n can be any number) of something. Where something can be almost anything you can imagine:\n",
    "\n",
    "* It could be numbers themselves <br>For example: Using tensors to represent the price of cars.\n",
    "* It could be an image <br> For example: Using tensors to represent the pixels of image. \n",
    "* It could be text  <br> For example: Using tensors to represent word\n",
    "* It could be some other form of information or data you want to represent with numbers. \n",
    "\n",
    "#### Question may arises in our, so what will be the main difference between tensors and NumPy.\n",
    "\n",
    "The main difference between tensors and Numpy (also known as n-dimensional arrays of number) is that tensors can be used on [GPUs (graphical processing units)](https://blogs.nvidia.com/blog/2009/12/16/whats-the-difference-between-a-cpu-and-a-gpu/) and [TPUs (tensor processing units)](https://en.wikipedia.org/wiki/Tensor_processing_unit). \n",
    "\n",
    "The benefit of being able to run on GPUs and TPUs is faster computation, this means, if we wanted to find patterns in the numerical representations of our data, we can generally find them faster using GPUs and TPUs.\n",
    "\n",
    "Okay, we've been talking enough about tensors, let's see them.\n",
    "\n",
    "The first thing we'll do is import TensorFlow under the common alias `tf`."
   ]
  },
  {
   "cell_type": "code",
   "execution_count": 3,
   "id": "74b156f5",
   "metadata": {},
   "outputs": [
    {
     "name": "stdout",
     "output_type": "stream",
     "text": [
      "2.7.0\n"
     ]
    }
   ],
   "source": [
    "## Import TensorFlow\n",
    "\n",
    "import warnings\n",
    "warnings.filterwarnings('ignore')\n",
    "\n",
    "import tensorflow as tf\n",
    "print(tf.__version__) # find the version number where number should 2.x+"
   ]
  },
  {
   "cell_type": "markdown",
   "id": "ad6e1db4",
   "metadata": {},
   "source": [
    "## Creating Tensors with `tf.constant()`\n",
    "\n",
    "As mentioned before, in general, you usually won't create tensors yourself. This is because TensorFlow has built-in module such as (such as [`tf.io`](https://www.tensorflow.org/api_docs/python/tf/io) and [`tf.data`](https://www.tensorflow.org/guide/data)) which are able to read your data sources and automatically convert them to tensors and then later on, nueral network models will process these for us. \n",
    "\n",
    "But for now, because we're getting familar with tensors themselves and how to manipulate them, we'll see how we can create them ourselves. \n",
    "\n",
    "We'll begin by using [`tf.constant()`](https://www.tensorflow.org/api_docs/python/tf/constant)."
   ]
  },
  {
   "cell_type": "code",
   "execution_count": 4,
   "id": "9de01874",
   "metadata": {},
   "outputs": [
    {
     "data": {
      "text/plain": [
       "<tf.Tensor: shape=(), dtype=int32, numpy=8>"
      ]
     },
     "execution_count": 4,
     "metadata": {},
     "output_type": "execute_result"
    }
   ],
   "source": [
    "# Create a Scalar (rank 0 tensor)\n",
    "\n",
    "scalar = tf.constant(8)\n",
    "scalar"
   ]
  },
  {
   "cell_type": "markdown",
   "id": "088aec2b",
   "metadata": {},
   "source": [
    "A Scalar is known as a rank 0 tensor. Because it has no dimensions(it's just a number). \n",
    "\n",
    "> 🔑 **Note:** For now, you don't need to know too much about the different ranks of tensors (but we will see more on this later). The important point is knowing tensors can have an unlimited range of dimensions (the exact amount will depend on what data you're representing)."
   ]
  },
  {
   "cell_type": "code",
   "execution_count": 5,
   "id": "2c16cf1a",
   "metadata": {},
   "outputs": [
    {
     "data": {
      "text/plain": [
       "0"
      ]
     },
     "execution_count": 5,
     "metadata": {},
     "output_type": "execute_result"
    }
   ],
   "source": [
    "# check the number of a dimensions of a tensor where ndim stands for number of dimensions\n",
    "\n",
    "scalar.ndim"
   ]
  },
  {
   "cell_type": "code",
   "execution_count": 6,
   "id": "5e56c7b7",
   "metadata": {},
   "outputs": [
    {
     "data": {
      "text/plain": [
       "<tf.Tensor: shape=(2,), dtype=int32, numpy=array([8, 8], dtype=int32)>"
      ]
     },
     "execution_count": 6,
     "metadata": {},
     "output_type": "execute_result"
    }
   ],
   "source": [
    "# create a vector more than 0 dimensions\n",
    "\n",
    "vector = tf.constant([8, 8])\n",
    "vector"
   ]
  },
  {
   "cell_type": "code",
   "execution_count": 7,
   "id": "cee84994",
   "metadata": {},
   "outputs": [
    {
     "data": {
      "text/plain": [
       "1"
      ]
     },
     "execution_count": 7,
     "metadata": {},
     "output_type": "execute_result"
    }
   ],
   "source": [
    "# check the number of a dimensions of our vector tensor\n",
    "\n",
    "vector.ndim"
   ]
  },
  {
   "cell_type": "code",
   "execution_count": 9,
   "id": "8ca3ae06",
   "metadata": {},
   "outputs": [
    {
     "data": {
      "text/plain": [
       "<tf.Tensor: shape=(2, 2), dtype=int32, numpy=\n",
       "array([[ 7, 70],\n",
       "       [10,  7]], dtype=int32)>"
      ]
     },
     "execution_count": 9,
     "metadata": {},
     "output_type": "execute_result"
    }
   ],
   "source": [
    "# create a matrix more than 1 dimensions\n",
    "\n",
    "matrix = tf.constant([[7, 70],\n",
    "                    [10, 7]])\n",
    "\n",
    "matrix"
   ]
  },
  {
   "cell_type": "code",
   "execution_count": 10,
   "id": "e42f66a0",
   "metadata": {},
   "outputs": [
    {
     "data": {
      "text/plain": [
       "2"
      ]
     },
     "execution_count": 10,
     "metadata": {},
     "output_type": "execute_result"
    }
   ],
   "source": [
    "# check the number of the dimensions of matrix\n",
    "\n",
    "matrix.ndim"
   ]
  },
  {
   "cell_type": "markdown",
   "id": "576d0afa",
   "metadata": {},
   "source": [
    "By Default, TensorFlow Creates tensors with either an `int32` or `float32` datatype.\n",
    "\n",
    "This is known as [32-bit precision](https://en.wikipedia.org/wiki/Precision_(computer_science) (the higher the number, the more precise the number, the more space it takes up on your computer)."
   ]
  },
  {
   "cell_type": "code",
   "execution_count": 11,
   "id": "5e8cf129",
   "metadata": {},
   "outputs": [
    {
     "data": {
      "text/plain": [
       "<tf.Tensor: shape=(3, 2), dtype=float16, numpy=\n",
       "array([[ 7., 10.],\n",
       "       [ 3.,  2.],\n",
       "       [ 8.,  9.]], dtype=float16)>"
      ]
     },
     "execution_count": 11,
     "metadata": {},
     "output_type": "execute_result"
    }
   ],
   "source": [
    "# create the another matrix and define the datatype\n",
    "\n",
    "another_matrix = tf.constant([[7.,10.],\n",
    "                             [3., 2.],\n",
    "                             [8.,9.]], dtype=tf.float16) # specify the datatype with 'dtype'\n",
    "\n",
    "another_matrix"
   ]
  },
  {
   "cell_type": "code",
   "execution_count": 12,
   "id": "fcebc70c",
   "metadata": {},
   "outputs": [
    {
     "data": {
      "text/plain": [
       "2"
      ]
     },
     "execution_count": 12,
     "metadata": {},
     "output_type": "execute_result"
    }
   ],
   "source": [
    "# Even though another matrix contains more numbers, its dimensions stay the same\n",
    "\n",
    "another_matrix.ndim"
   ]
  },
  {
   "cell_type": "code",
   "execution_count": 14,
   "id": "d1410901",
   "metadata": {},
   "outputs": [
    {
     "data": {
      "text/plain": [
       "<tf.Tensor: shape=(3, 2, 3), dtype=int32, numpy=\n",
       "array([[[ 3,  2,  1],\n",
       "        [ 6,  5,  4]],\n",
       "\n",
       "       [[ 9,  8,  7],\n",
       "        [12, 11, 10]],\n",
       "\n",
       "       [[15, 14, 13],\n",
       "        [18, 17, 16]]], dtype=int32)>"
      ]
     },
     "execution_count": 14,
     "metadata": {},
     "output_type": "execute_result"
    }
   ],
   "source": [
    "# How about a tensor? (more than 2 dimensions, although, all of the above items are also technically tensors)\n",
    "\n",
    "tensor = tf.constant([[[3, 2, 1],\n",
    "                      [6, 5, 4]],\n",
    "                     [[9, 8, 7],\n",
    "                      [12, 11, 10]],\n",
    "                     [[15, 14, 13],\n",
    "                      [18, 17, 16]]])\n",
    "\n",
    "tensor"
   ]
  },
  {
   "cell_type": "code",
   "execution_count": 15,
   "id": "45fef09d",
   "metadata": {},
   "outputs": [
    {
     "data": {
      "text/plain": [
       "3"
      ]
     },
     "execution_count": 15,
     "metadata": {},
     "output_type": "execute_result"
    }
   ],
   "source": [
    "tensor.ndim"
   ]
  },
  {
   "cell_type": "markdown",
   "id": "c246c47f",
   "metadata": {},
   "source": [
    "This is known as rank 3 tensor `(tensor with 3 dimensions)`, however a tensor can have an arbitary (unlimited) amount of dimensions\n",
    "\n",
    "For example you might have turn a series of images into tensors with shape (224, 224, 3, 32), where:\n",
    "\n",
    "* 224, 224 (the first 2 dimensions) are the height and width of the images in pixels.\n",
    "* 3 is the number of colour channels of image (red, green, and blue).\n",
    "* 32 is the batch size (the number of images a neural network sees at any one time).\n",
    "\n",
    "All of the variables we have created are actually tensors. But you may also hear them referred to as their different names (the onces we gave them):\n",
    "\n",
    "* Scalar: a single number\n",
    "* Vector: a number with direction (<i>For example: wind speed with direction</i>)\n",
    "* matrix: a 2-dimensional array of number\n",
    "* tensor: an n-dimensional array of numbers (<i> Where n can be any number, a 0-dimesions tensor is a scalar, a 1-dimension tensor is a vector</i>)\n",
    "\n",
    "By research, what we've found is that the term matrix and tensor are often interchangably.\n",
    "\n",
    "Going forward since we're using TensorFlow, everything we refer to and use will be tensors.\n",
    "\n",
    "For more on the mathematical difference between scalars, vectors and matrices see the [visual algebra post by Math is Fun](https://www.mathsisfun.com/algebra/scalar-vector-matrix.html).\n",
    "\n",
    "![difference between scalar, vector, matrix, tensor](https://raw.githubusercontent.com/mrdbourke/tensorflow-deep-learning/main/images/00-scalar-vector-matrix-tensor.png)"
   ]
  }
 ],
 "metadata": {
  "kernelspec": {
   "display_name": "Python 3 (ipykernel)",
   "language": "python",
   "name": "python3"
  },
  "language_info": {
   "codemirror_mode": {
    "name": "ipython",
    "version": 3
   },
   "file_extension": ".py",
   "mimetype": "text/x-python",
   "name": "python",
   "nbconvert_exporter": "python",
   "pygments_lexer": "ipython3",
   "version": "3.8.10"
  }
 },
 "nbformat": 4,
 "nbformat_minor": 5
}
