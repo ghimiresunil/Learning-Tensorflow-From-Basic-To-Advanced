{
 "cells": [
  {
   "cell_type": "markdown",
   "id": "bef8babe",
   "metadata": {},
   "source": [
    "# 00. Getting Started with TensorFlow: A guide to the fundamentals"
   ]
  },
  {
   "cell_type": "markdown",
   "id": "fd275bca",
   "metadata": {},
   "source": [
    "## What is tensorflow?"
   ]
  },
  {
   "cell_type": "markdown",
   "id": "be9273eb",
   "metadata": {},
   "source": [
    "[TensorFlow](https://www.tensorflow.org/) is an open-source end-to-end machine learning library for preprocessing data, modelling data and serving models (getting them into the hands of others)."
   ]
  },
  {
   "cell_type": "markdown",
   "id": "572633c1",
   "metadata": {},
   "source": [
    "## Why Use Tensorflow?"
   ]
  },
  {
   "cell_type": "markdown",
   "id": "7ab7a340",
   "metadata": {},
   "source": [
    "Rather than building Machine Learning and Deep Learning models from scratch, it's more likely you'll use a library such as Tensorflow. This is because it contains many of the most common Machine Learning functions you'll want to use."
   ]
  },
  {
   "cell_type": "markdown",
   "id": "97897640",
   "metadata": {},
   "source": [
    "## What we're going to Cover?"
   ]
  },
  {
   "cell_type": "markdown",
   "id": "a6b76f21",
   "metadata": {},
   "source": [
    "Tensorflow is vast. But the main premise is simple: turns data into numbers (tensors) and build machine learning algorithms to find patterns in them. \n",
    "\n",
    "In this notebook we cover some of the most fundamentals Tensorflow operations more specificially:\n",
    "\n",
    "* Introduction to tensors (creating tensors)\n",
    "* Getting information from tensors (tensor attributes)\n",
    "* Manipulating tensors (tensor operations)\n",
    "* Tensors and NumPy\n",
    "* Using `@tf.function` (a way to speed up your regular Python functions)\n",
    "* Using GPUs with TensorFlow\n",
    "* Exercises to try\n",
    "\n",
    "Things to note:\n",
    "\n",
    "* Many of the conventions here will happen automatically behind the scenes (when you build a model) but it's worth knowing so if you see any of these things, you know what's happening. \n",
    "* For any TensorFlow function you see, it's important to be able to check it out in the documentation, for example, going to the Python API docs for all functions and searching for what you need: https://www.tensorflow.org/api_docs/python/ (don't worry if this seems overwhelming at first, with enough practice, you'll get used to navigating the documentaiton)."
   ]
  },
  {
   "cell_type": "markdown",
   "id": "a31c70cd",
   "metadata": {},
   "source": [
    "## Introduction to Tensors "
   ]
  },
  {
   "cell_type": "markdown",
   "id": "db98d58d",
   "metadata": {},
   "source": [
    "If you've every used NumPy, [tensors](https://www.tensorflow.org/guide/tensor) are the kind of like NumPy arrays (we'll see more on this later). \n",
    "\n",
    "For the shake this notebook and going forward, you can think of a tensor as a multi-dimensional numerical representation (also referred to as n-dimensional, where n can be any number) of something. Where something can be almost anything you can imagine:\n",
    "\n",
    "* It could be numbers themselves <br>For example: Using tensors to represent the price of cars.\n",
    "* It could be an image <br> For example: Using tensors to represent the pixels of image. \n",
    "* It could be text  <br> For example: Using tensors to represent word\n",
    "* It could be some other form of information or data you want to represent with numbers. \n",
    "\n",
    "#### Question may arises in our, so what will be the main difference between tensors and NumPy.\n",
    "\n",
    "The main difference between tensors and Numpy (also known as n-dimensional arrays of number) is that tensors can be used on [GPUs (graphical processing units)](https://blogs.nvidia.com/blog/2009/12/16/whats-the-difference-between-a-cpu-and-a-gpu/) and [TPUs (tensor processing units)](https://en.wikipedia.org/wiki/Tensor_processing_unit). \n",
    "\n",
    "The benefit of being able to run on GPUs and TPUs is faster computation, this means, if we wanted to find patterns in the numerical representations of our data, we can generally find them faster using GPUs and TPUs.\n",
    "\n",
    "Okay, we've been talking enough about tensors, let's see them.\n",
    "\n",
    "The first thing we'll do is import TensorFlow under the common alias `tf`."
   ]
  },
  {
   "cell_type": "code",
   "execution_count": 2,
   "id": "a73b7b18",
   "metadata": {},
   "outputs": [
    {
     "name": "stdout",
     "output_type": "stream",
     "text": [
      "2.7.0\n"
     ]
    }
   ],
   "source": [
    "## Import TensorFlow\n",
    "\n",
    "import warnings\n",
    "warnings.filterwarnings('ignore')\n",
    "\n",
    "import tensorflow as tf\n",
    "print(tf.__version__) # find the version number where number should 2.x+"
   ]
  },
  {
   "cell_type": "markdown",
   "id": "38563b68",
   "metadata": {},
   "source": [
    "## Creating Tensors with `tf.constant()`\n",
    "\n",
    "As mentioned before, in general, you usually won't create tensors yourself. This is because TensorFlow has built-in module such as (such as [`tf.io`](https://www.tensorflow.org/api_docs/python/tf/io) and [`tf.data`](https://www.tensorflow.org/guide/data)) which are able to read your data sources and automatically convert them to tensors and then later on, nueral network models will process these for us. \n",
    "\n",
    "But for now, because we're getting familar with tensors themselves and how to manipulate them, we'll see how we can create them ourselves. \n",
    "\n",
    "We'll begin by using [`tf.constant()`](https://www.tensorflow.org/api_docs/python/tf/constant)."
   ]
  },
  {
   "cell_type": "code",
   "execution_count": 4,
   "id": "c0f2d6ae",
   "metadata": {},
   "outputs": [
    {
     "data": {
      "text/plain": [
       "<tf.Tensor: shape=(), dtype=int32, numpy=8>"
      ]
     },
     "execution_count": 4,
     "metadata": {},
     "output_type": "execute_result"
    }
   ],
   "source": [
    "# Create a Scalar (rank 0 tensor)\n",
    "\n",
    "scalar = tf.constant(8)\n",
    "scalar"
   ]
  },
  {
   "cell_type": "markdown",
   "id": "71037f45",
   "metadata": {},
   "source": [
    "A Scalar is known as a rank 0 tensor. Because it has no dimensions(it's just a number). \n",
    "\n",
    "> 🔑 **Note:** For now, you don't need to know too much about the different ranks of tensors (but we will see more on this later). The important point is knowing tensors can have an unlimited range of dimensions (the exact amount will depend on what data you're representing)."
   ]
  },
  {
   "cell_type": "code",
   "execution_count": null,
   "id": "48bc20f2",
   "metadata": {},
   "outputs": [],
   "source": []
  }
 ],
 "metadata": {
  "kernelspec": {
   "display_name": "Python 3 (ipykernel)",
   "language": "python",
   "name": "python3"
  },
  "language_info": {
   "codemirror_mode": {
    "name": "ipython",
    "version": 3
   },
   "file_extension": ".py",
   "mimetype": "text/x-python",
   "name": "python",
   "nbconvert_exporter": "python",
   "pygments_lexer": "ipython3",
   "version": "3.8.10"
  }
 },
 "nbformat": 4,
 "nbformat_minor": 5
}
